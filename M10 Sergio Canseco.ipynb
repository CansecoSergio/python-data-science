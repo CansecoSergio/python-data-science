{
  "nbformat": 4,
  "nbformat_minor": 0,
  "metadata": {
    "colab": {
      "provenance": [],
      "mount_file_id": "1X8B1a3r0UPnEmF0aIDTt0cW8tg7x2ypZ",
      "authorship_tag": "ABX9TyPnJCT2iNw6XmJNKahkfz9R",
      "include_colab_link": true
    },
    "kernelspec": {
      "name": "python3",
      "display_name": "Python 3"
    },
    "language_info": {
      "name": "python"
    }
  },
  "cells": [
    {
      "cell_type": "markdown",
      "metadata": {
        "id": "view-in-github",
        "colab_type": "text"
      },
      "source": [
        "<a href=\"https://colab.research.google.com/github/CansecoSergio/python-data-science/blob/main/M10%20Sergio%20Canseco.ipynb\" target=\"_parent\"><img src=\"https://colab.research.google.com/assets/colab-badge.svg\" alt=\"Open In Colab\"/></a>"
      ]
    },
    {
      "cell_type": "markdown",
      "source": [
        "# **Reto Módulo 10 Sergio Canseco**"
      ],
      "metadata": {
        "id": "R-X2iLh-pJz0"
      }
    },
    {
      "cell_type": "markdown",
      "source": [
        "\n",
        "## 1. En algún entorno Spark, carga los datos y elimina las variables innecesarias"
      ],
      "metadata": {
        "id": "-a81bnCkpWC4"
      }
    },
    {
      "cell_type": "markdown",
      "source": [
        "**Instalación y configuración del ambiente de PySpark**"
      ],
      "metadata": {
        "id": "khrzucJ7p8R8"
      }
    },
    {
      "cell_type": "code",
      "execution_count": 1,
      "metadata": {
        "id": "QFptqwdHpJPl"
      },
      "outputs": [],
      "source": [
        "!apt-get install openjdk-8-jdk-headless -qq > /dev/null\n",
        "!wget -q http://archive.apache.org/dist/spark/spark-3.1.1/spark-3.1.1-bin-hadoop3.2.tgz\n",
        "!tar xf spark-3.1.1-bin-hadoop3.2.tgz\n",
        "!pip install -q findspark"
      ]
    },
    {
      "cell_type": "code",
      "source": [
        "import os\n",
        "os.environ[\"JAVA_HOME\"] = \"/usr/lib/jvm/java-8-openjdk-amd64\"\n",
        "os.environ[\"SPARK_HOME\"] = \"/content/spark-3.1.1-bin-hadoop3.2\""
      ],
      "metadata": {
        "id": "ZvBZAyJ8p3hX"
      },
      "execution_count": 2,
      "outputs": []
    },
    {
      "cell_type": "code",
      "source": [
        "!ls"
      ],
      "metadata": {
        "colab": {
          "base_uri": "https://localhost:8080/"
        },
        "id": "gvdB0gPHp6PO",
        "outputId": "a218f82d-4330-4297-a189-16b8b67ad94e"
      },
      "execution_count": 3,
      "outputs": [
        {
          "output_type": "stream",
          "name": "stdout",
          "text": [
            "drive  sample_data  spark-3.1.1-bin-hadoop3.2  spark-3.1.1-bin-hadoop3.2.tgz\n"
          ]
        }
      ]
    },
    {
      "cell_type": "code",
      "source": [
        "import findspark\n",
        "findspark.init()\n",
        "from pyspark import SparkContext, SparkConf, SQLContext\n",
        "from pyspark.sql import SparkSession\n",
        "spark = SparkSession.builder.master(\"local[*]\").getOrCreate()\n",
        "spark.conf.set(\"spark.sql.repl.eagerEval.enabled\", True) # Propiedad para mejor formato de tablas\n",
        "spark"
      ],
      "metadata": {
        "colab": {
          "base_uri": "https://localhost:8080/",
          "height": 219
        },
        "id": "geESOoAqqKUZ",
        "outputId": "5ce09b04-0ab0-42e7-ab6d-2bf0e8050c93"
      },
      "execution_count": 4,
      "outputs": [
        {
          "output_type": "execute_result",
          "data": {
            "text/plain": [
              "<pyspark.sql.session.SparkSession at 0x787406b59300>"
            ],
            "text/html": [
              "\n",
              "            <div>\n",
              "                <p><b>SparkSession - in-memory</b></p>\n",
              "                \n",
              "        <div>\n",
              "            <p><b>SparkContext</b></p>\n",
              "\n",
              "            <p><a href=\"http://4f69aedc694b:4040\">Spark UI</a></p>\n",
              "\n",
              "            <dl>\n",
              "              <dt>Version</dt>\n",
              "                <dd><code>v3.1.1</code></dd>\n",
              "              <dt>Master</dt>\n",
              "                <dd><code>local[*]</code></dd>\n",
              "              <dt>AppName</dt>\n",
              "                <dd><code>pyspark-shell</code></dd>\n",
              "            </dl>\n",
              "        </div>\n",
              "        \n",
              "            </div>\n",
              "        "
            ]
          },
          "metadata": {},
          "execution_count": 4
        }
      ]
    },
    {
      "cell_type": "markdown",
      "source": [
        "Configuración de Google Drive"
      ],
      "metadata": {
        "id": "aomi5rxMrfjE"
      }
    },
    {
      "cell_type": "code",
      "source": [
        "from google.colab import drive\n",
        "drive.mount(\"/content/drive\")\n",
        "%ls"
      ],
      "metadata": {
        "colab": {
          "base_uri": "https://localhost:8080/"
        },
        "id": "YAVd6_duriV_",
        "outputId": "7ef83555-263f-48d1-afb2-9b8e46f9d411"
      },
      "execution_count": 6,
      "outputs": [
        {
          "output_type": "stream",
          "name": "stdout",
          "text": [
            "Drive already mounted at /content/drive; to attempt to forcibly remount, call drive.mount(\"/content/drive\", force_remount=True).\n",
            "\u001b[0m\u001b[01;34mdrive\u001b[0m/  \u001b[01;34msample_data\u001b[0m/  \u001b[01;34mspark-3.1.1-bin-hadoop3.2\u001b[0m/  spark-3.1.1-bin-hadoop3.2.tgz\n"
          ]
        }
      ]
    },
    {
      "cell_type": "markdown",
      "source": [
        "**Lectura de información**"
      ],
      "metadata": {
        "id": "yMziYtBQqTSp"
      }
    },
    {
      "cell_type": "code",
      "source": [
        "df_pollution = spark.read.csv('/content/drive/MyDrive/Archivos Collab/M10/Monterrey Pollution Data 2.csv', header=True, sep=\",\", inferSchema=True)\n",
        "df_pollution.show(5, truncate = False)"
      ],
      "metadata": {
        "colab": {
          "base_uri": "https://localhost:8080/"
        },
        "id": "VQygmqU1qit8",
        "outputId": "351b2a31-a933-4525-abb1-9cd29d3a8401"
      },
      "execution_count": 7,
      "outputs": [
        {
          "output_type": "stream",
          "name": "stdout",
          "text": [
            "+---------+-----+---+-------+-------+----+----+----+----+----+---+----+-----+-----+-----+---+-----+----+---+---+\n",
            "|Date     |Month|Day|DayWeek|WeekDay|Hour|CO  |NO  |NO2 |NOX |O3 |PM10|PM2.5|PRS  |RAINF|RH |SR   |TOUT|WSR|WDV|\n",
            "+---------+-----+---+-------+-------+----+----+----+----+----+---+----+-----+-----+-----+---+-----+----+---+---+\n",
            "|01-ene-15|1    |1  |jue    |5      |1   |2.51|10.2|12.9|23.1|10 |139 |80   |725.4|0.01 |96 |0.0  |3.91|7.2|344|\n",
            "|01-ene-15|1    |1  |jue    |5      |2   |2.41|9.2 |11.6|20.8|7  |42  |29   |725.0|0.02 |96 |0.0  |3.81|6.3|341|\n",
            "|01-ene-15|1    |1  |jue    |5      |3   |2.39|8.1 |11.8|19.9|7  |23  |9    |724.4|0.0  |96 |0.0  |3.85|5.2|346|\n",
            "|01-ene-15|1    |1  |jue    |5      |5   |2.26|5.3 |8.9 |14.2|7  |23  |14   |724.0|0.01 |96 |0.0  |3.79|5.6|336|\n",
            "|01-ene-15|1    |1  |jue    |5      |8   |2.25|7.2 |10.2|17.4|5  |15  |8    |724.3|0.0  |96 |0.023|3.93|4.8|354|\n",
            "+---------+-----+---+-------+-------+----+----+----+----+----+---+----+-----+-----+-----+---+-----+----+---+---+\n",
            "only showing top 5 rows\n",
            "\n"
          ]
        }
      ]
    },
    {
      "cell_type": "code",
      "source": [
        "print(\"Número de registros: \" + str(df_pollution.count()))\n",
        "print(\"Número de columnas: \" + str(len(df_pollution.columns)))"
      ],
      "metadata": {
        "colab": {
          "base_uri": "https://localhost:8080/"
        },
        "id": "nr2Z6SGPr_fk",
        "outputId": "1168205d-24d7-436a-c68d-0c56685490a4"
      },
      "execution_count": 9,
      "outputs": [
        {
          "output_type": "stream",
          "name": "stdout",
          "text": [
            "Número de registros: 3859\n",
            "Número de columnas: 20\n"
          ]
        }
      ]
    },
    {
      "cell_type": "code",
      "source": [
        "df_pollution.describe()"
      ],
      "metadata": {
        "colab": {
          "base_uri": "https://localhost:8080/",
          "height": 181
        },
        "id": "6pIaC64GsrbG",
        "outputId": "18d25a4d-96ec-4b99-d5dd-bd4a23ed9061"
      },
      "execution_count": 10,
      "outputs": [
        {
          "output_type": "execute_result",
          "data": {
            "text/plain": [
              "+-------+----------+------------------+-----------------+-------+------------------+------------------+------------------+------------------+------------------+------------------+------------------+-----------------+------------------+------------------+--------------------+-----------------+-------------------+-----------------+------------------+------------------+\n",
              "|summary|      Date|             Month|              Day|DayWeek|           WeekDay|              Hour|                CO|                NO|               NO2|               NOX|                O3|             PM10|             PM2.5|               PRS|               RAINF|               RH|                 SR|             TOUT|               WSR|               WDV|\n",
              "+-------+----------+------------------+-----------------+-------+------------------+------------------+------------------+------------------+------------------+------------------+------------------+-----------------+------------------+------------------+--------------------+-----------------+-------------------+-----------------+------------------+------------------+\n",
              "|  count|      3859|              3859|             3859|   3859|              3859|              3859|              3859|              3859|              3859|              3859|              3859|             3859|              3859|              3859|                3859|             3859|               3859|             3859|              3859|              3859|\n",
              "|   mean|      null| 4.820678932365898|15.76444674786214|   null| 4.075926405804613|12.037833635656906|1.8006219227779212|13.503653796320318|17.539284788381988|30.973257321216455|22.658719875615443|86.04949468774294|27.675822752008294|  719.629955947137|0.002650945840632...|71.04845814977973| 0.1825822752311473| 22.0189686447266| 7.331458927183208|127.52215599896346|\n",
              "| stddev|      null|2.8352877939176295|9.157213402989008|   null|1.9730397456778965| 6.869487540512553|0.8720340991225567|26.856244699079294|13.301006799154928|36.090498039388464| 16.51056131885926|49.00887433131967|16.849434279135153|3.6959485297554657| 0.04244711534165332|18.33461472259281|0.26160202836729035|7.545535084646807|3.8282164629573447| 96.51530962028535|\n",
              "|    min| 01-abr-15|                 1|                1|    dom|                 1|                 0|              0.29|               2.3|               0.4|               3.1|                 2|                8|                 5|             708.4|                 0.0|               12|                0.0|             3.03|               0.9|                 0|\n",
              "|    max|31/08/2015|                11|               31|    vie|                 7|                23|              8.56|             414.3|              99.2|             436.0|                92|              494|               123|             734.3|                 2.4|               96|              0.934|            38.52|              21.2|               360|\n",
              "+-------+----------+------------------+-----------------+-------+------------------+------------------+------------------+------------------+------------------+------------------+------------------+-----------------+------------------+------------------+--------------------+-----------------+-------------------+-----------------+------------------+------------------+"
            ],
            "text/html": [
              "<table border='1'>\n",
              "<tr><th>summary</th><th>Date</th><th>Month</th><th>Day</th><th>DayWeek</th><th>WeekDay</th><th>Hour</th><th>CO</th><th>NO</th><th>NO2</th><th>NOX</th><th>O3</th><th>PM10</th><th>PM2.5</th><th>PRS</th><th>RAINF</th><th>RH</th><th>SR</th><th>TOUT</th><th>WSR</th><th>WDV</th></tr>\n",
              "<tr><td>count</td><td>3859</td><td>3859</td><td>3859</td><td>3859</td><td>3859</td><td>3859</td><td>3859</td><td>3859</td><td>3859</td><td>3859</td><td>3859</td><td>3859</td><td>3859</td><td>3859</td><td>3859</td><td>3859</td><td>3859</td><td>3859</td><td>3859</td><td>3859</td></tr>\n",
              "<tr><td>mean</td><td>null</td><td>4.820678932365898</td><td>15.76444674786214</td><td>null</td><td>4.075926405804613</td><td>12.037833635656906</td><td>1.8006219227779212</td><td>13.503653796320318</td><td>17.539284788381988</td><td>30.973257321216455</td><td>22.658719875615443</td><td>86.04949468774294</td><td>27.675822752008294</td><td>719.629955947137</td><td>0.002650945840632...</td><td>71.04845814977973</td><td>0.1825822752311473</td><td>22.0189686447266</td><td>7.331458927183208</td><td>127.52215599896346</td></tr>\n",
              "<tr><td>stddev</td><td>null</td><td>2.8352877939176295</td><td>9.157213402989008</td><td>null</td><td>1.9730397456778965</td><td>6.869487540512553</td><td>0.8720340991225567</td><td>26.856244699079294</td><td>13.301006799154928</td><td>36.090498039388464</td><td>16.51056131885926</td><td>49.00887433131967</td><td>16.849434279135153</td><td>3.6959485297554657</td><td>0.04244711534165332</td><td>18.33461472259281</td><td>0.26160202836729035</td><td>7.545535084646807</td><td>3.8282164629573447</td><td>96.51530962028535</td></tr>\n",
              "<tr><td>min</td><td>01-abr-15</td><td>1</td><td>1</td><td>dom</td><td>1</td><td>0</td><td>0.29</td><td>2.3</td><td>0.4</td><td>3.1</td><td>2</td><td>8</td><td>5</td><td>708.4</td><td>0.0</td><td>12</td><td>0.0</td><td>3.03</td><td>0.9</td><td>0</td></tr>\n",
              "<tr><td>max</td><td>31/08/2015</td><td>11</td><td>31</td><td>vie</td><td>7</td><td>23</td><td>8.56</td><td>414.3</td><td>99.2</td><td>436.0</td><td>92</td><td>494</td><td>123</td><td>734.3</td><td>2.4</td><td>96</td><td>0.934</td><td>38.52</td><td>21.2</td><td>360</td></tr>\n",
              "</table>\n"
            ]
          },
          "metadata": {},
          "execution_count": 10
        }
      ]
    },
    {
      "cell_type": "code",
      "source": [
        "#Se renombra la columna PM2.5 para evitar el . en el nombre\n",
        "df_pollution = df_pollution.withColumnRenamed('PM2.5', 'PM2_5')"
      ],
      "metadata": {
        "id": "mYAKra5styRH"
      },
      "execution_count": 19,
      "outputs": []
    },
    {
      "cell_type": "code",
      "source": [
        "# Mostrar solo datos de columnas de interés\n",
        "df_pollution.describe(['O3', 'PM2_5'])"
      ],
      "metadata": {
        "colab": {
          "base_uri": "https://localhost:8080/",
          "height": 161
        },
        "id": "acsq9Asus538",
        "outputId": "a7d65f2a-3e8f-45e2-fcc3-397cda96041a"
      },
      "execution_count": 20,
      "outputs": [
        {
          "output_type": "execute_result",
          "data": {
            "text/plain": [
              "+-------+------------------+------------------+\n",
              "|summary|                O3|             PM2_5|\n",
              "+-------+------------------+------------------+\n",
              "|  count|              3859|              3859|\n",
              "|   mean|22.658719875615443|27.675822752008294|\n",
              "| stddev| 16.51056131885926|16.849434279135153|\n",
              "|    min|                 2|                 5|\n",
              "|    max|                92|               123|\n",
              "+-------+------------------+------------------+"
            ],
            "text/html": [
              "<table border='1'>\n",
              "<tr><th>summary</th><th>O3</th><th>PM2_5</th></tr>\n",
              "<tr><td>count</td><td>3859</td><td>3859</td></tr>\n",
              "<tr><td>mean</td><td>22.658719875615443</td><td>27.675822752008294</td></tr>\n",
              "<tr><td>stddev</td><td>16.51056131885926</td><td>16.849434279135153</td></tr>\n",
              "<tr><td>min</td><td>2</td><td>5</td></tr>\n",
              "<tr><td>max</td><td>92</td><td>123</td></tr>\n",
              "</table>\n"
            ]
          },
          "metadata": {},
          "execution_count": 20
        }
      ]
    },
    {
      "cell_type": "code",
      "source": [
        "#Se imprime el schema\n",
        "df_pollution.printSchema()"
      ],
      "metadata": {
        "colab": {
          "base_uri": "https://localhost:8080/"
        },
        "id": "5lvGvMhZu_9f",
        "outputId": "ccda30a0-7ed9-41cf-878f-b39ac1baf147"
      },
      "execution_count": 21,
      "outputs": [
        {
          "output_type": "stream",
          "name": "stdout",
          "text": [
            "root\n",
            " |-- Date: string (nullable = true)\n",
            " |-- Month: integer (nullable = true)\n",
            " |-- Day: integer (nullable = true)\n",
            " |-- DayWeek: string (nullable = true)\n",
            " |-- WeekDay: integer (nullable = true)\n",
            " |-- Hour: integer (nullable = true)\n",
            " |-- CO: double (nullable = true)\n",
            " |-- NO: double (nullable = true)\n",
            " |-- NO2: double (nullable = true)\n",
            " |-- NOX: double (nullable = true)\n",
            " |-- O3: integer (nullable = true)\n",
            " |-- PM10: integer (nullable = true)\n",
            " |-- PM2_5: integer (nullable = true)\n",
            " |-- PRS: double (nullable = true)\n",
            " |-- RAINF: double (nullable = true)\n",
            " |-- RH: integer (nullable = true)\n",
            " |-- SR: double (nullable = true)\n",
            " |-- TOUT: double (nullable = true)\n",
            " |-- WSR: double (nullable = true)\n",
            " |-- WDV: integer (nullable = true)\n",
            "\n"
          ]
        }
      ]
    },
    {
      "cell_type": "markdown",
      "source": [
        "**Preprocesado de datos**"
      ],
      "metadata": {
        "id": "QA0rjo5ivSIK"
      }
    },
    {
      "cell_type": "code",
      "source": [
        "#Revisisón de columnas para validar que no haya datos nan\n",
        "from pyspark.sql.functions import isnan, when, count, col, isnull\n",
        "\n",
        "df_pollution.select([count(when(isnan(c), c)).alias(c) for c in df_pollution.columns]).show()"
      ],
      "metadata": {
        "colab": {
          "base_uri": "https://localhost:8080/"
        },
        "id": "QNsMF7ROvN0Q",
        "outputId": "1f752895-aecb-4e4b-8d3b-a905f5fd5a70"
      },
      "execution_count": 23,
      "outputs": [
        {
          "output_type": "stream",
          "name": "stdout",
          "text": [
            "+----+-----+---+-------+-------+----+---+---+---+---+---+----+-----+---+-----+---+---+----+---+---+\n",
            "|Date|Month|Day|DayWeek|WeekDay|Hour| CO| NO|NO2|NOX| O3|PM10|PM2_5|PRS|RAINF| RH| SR|TOUT|WSR|WDV|\n",
            "+----+-----+---+-------+-------+----+---+---+---+---+---+----+-----+---+-----+---+---+----+---+---+\n",
            "|   0|    0|  0|      0|      0|   0|  0|  0|  0|  0|  0|   0|    0|  0|    0|  0|  0|   0|  0|  0|\n",
            "+----+-----+---+-------+-------+----+---+---+---+---+---+----+-----+---+-----+---+---+----+---+---+\n",
            "\n"
          ]
        }
      ]
    },
    {
      "cell_type": "code",
      "source": [
        "#Revisión de columnas para validar que no haya valores nulos\n",
        "df_pollution.select([count(when(isnull(c), c)).alias(c) for c in df_pollution.columns]).show()"
      ],
      "metadata": {
        "colab": {
          "base_uri": "https://localhost:8080/"
        },
        "id": "ChgE7HXyv3lI",
        "outputId": "14048086-cbb1-40d9-f349-da4666d1ce2b"
      },
      "execution_count": 26,
      "outputs": [
        {
          "output_type": "stream",
          "name": "stdout",
          "text": [
            "+----+-----+---+-------+-------+----+---+---+---+---+---+----+-----+---+-----+---+---+----+---+---+\n",
            "|Date|Month|Day|DayWeek|WeekDay|Hour| CO| NO|NO2|NOX| O3|PM10|PM2_5|PRS|RAINF| RH| SR|TOUT|WSR|WDV|\n",
            "+----+-----+---+-------+-------+----+---+---+---+---+---+----+-----+---+-----+---+---+----+---+---+\n",
            "|   0|    0|  0|      0|      0|   0|  0|  0|  0|  0|  0|   0|    0|  0|    0|  0|  0|   0|  0|  0|\n",
            "+----+-----+---+-------+-------+----+---+---+---+---+---+----+-----+---+-----+---+---+----+---+---+\n",
            "\n"
          ]
        }
      ]
    },
    {
      "cell_type": "code",
      "source": [
        "#Se crea una copia para trabajar unicamente con el dataframe final\n",
        "df_pollution_clean = df_pollution.select(\"*\")\n",
        "\n",
        "#Se elimina la variable Date ya que no es relevante y solo se almacena el año 2015\n",
        "df_pollution_clean = df_pollution_clean.drop(df_pollution_clean.Date)\n",
        "\n",
        "#Se elimina DayWeek ya que no es relevante\n",
        "df_pollution_clean = df_pollution_clean.drop(df_pollution_clean.DayWeek)\n",
        "\n",
        "#Se eliminan las columnas de los contaminantes precursores (CO, NO, NO2, NOx, PM10)\n",
        "#Únicamente nos interesan los contaminantes O3 y PM2.5\n",
        "df_pollution_clean = df_pollution_clean.drop(df_pollution_clean.CO)\n",
        "df_pollution_clean = df_pollution_clean.drop(df_pollution_clean.NO)\n",
        "df_pollution_clean = df_pollution_clean.drop(df_pollution_clean.NO2)\n",
        "df_pollution_clean = df_pollution_clean.drop(df_pollution_clean.NOX)\n",
        "df_pollution_clean = df_pollution_clean.drop(df_pollution_clean.PM10)\n",
        "\n",
        "# Se eliminan filas duplicadas si es que existen\n",
        "df_pollution_clean = df_pollution_clean.dropDuplicates()\n"
      ],
      "metadata": {
        "id": "wg5mgog4wGk_"
      },
      "execution_count": 34,
      "outputs": []
    },
    {
      "cell_type": "code",
      "source": [
        "df_pollution_clean.describe().toPandas().T"
      ],
      "metadata": {
        "colab": {
          "base_uri": "https://localhost:8080/",
          "height": 488
        },
        "id": "jAXFnHkPxsYb",
        "outputId": "2c7e0786-0eb7-4cc3-84f0-9206ae62d82b"
      },
      "execution_count": 35,
      "outputs": [
        {
          "output_type": "execute_result",
          "data": {
            "text/plain": [
              "             0                      1                    2      3      4\n",
              "summary  count                   mean               stddev    min    max\n",
              "Month     3859      4.820678932365898    2.835287793917631      1     11\n",
              "Day       3859      15.76444674786214    9.157213402989003      1     31\n",
              "WeekDay   3859      4.075926405804613    1.973039745677894      1      7\n",
              "Hour      3859     12.037833635656906    6.869487540512549      0     23\n",
              "O3        3859     22.658719875615443   16.510561318859263      2     92\n",
              "PM2_5     3859     27.675822752008294    16.84943427913517      5    123\n",
              "PRS       3859      719.6299559471364   3.6959485297561017  708.4  734.3\n",
              "RAINF     3859  0.0026509458406322856  0.04244711534165339    0.0    2.4\n",
              "RH        3859      71.04845814977973    18.33461472259284     12     96\n",
              "SR        3859    0.18258227523114792   0.2616020283672904    0.0  0.934\n",
              "TOUT      3859     22.018968644726602    7.545535084646787   3.03  38.52\n",
              "WSR       3859      7.331458927183212   3.8282164629573434    0.9   21.2\n",
              "WDV       3859     127.52215599896346    96.51530962028542      0    360"
            ],
            "text/html": [
              "\n",
              "  <div id=\"df-809c37bd-1072-49b8-ad07-adcc99a25b86\" class=\"colab-df-container\">\n",
              "    <div>\n",
              "<style scoped>\n",
              "    .dataframe tbody tr th:only-of-type {\n",
              "        vertical-align: middle;\n",
              "    }\n",
              "\n",
              "    .dataframe tbody tr th {\n",
              "        vertical-align: top;\n",
              "    }\n",
              "\n",
              "    .dataframe thead th {\n",
              "        text-align: right;\n",
              "    }\n",
              "</style>\n",
              "<table border=\"1\" class=\"dataframe\">\n",
              "  <thead>\n",
              "    <tr style=\"text-align: right;\">\n",
              "      <th></th>\n",
              "      <th>0</th>\n",
              "      <th>1</th>\n",
              "      <th>2</th>\n",
              "      <th>3</th>\n",
              "      <th>4</th>\n",
              "    </tr>\n",
              "  </thead>\n",
              "  <tbody>\n",
              "    <tr>\n",
              "      <th>summary</th>\n",
              "      <td>count</td>\n",
              "      <td>mean</td>\n",
              "      <td>stddev</td>\n",
              "      <td>min</td>\n",
              "      <td>max</td>\n",
              "    </tr>\n",
              "    <tr>\n",
              "      <th>Month</th>\n",
              "      <td>3859</td>\n",
              "      <td>4.820678932365898</td>\n",
              "      <td>2.835287793917631</td>\n",
              "      <td>1</td>\n",
              "      <td>11</td>\n",
              "    </tr>\n",
              "    <tr>\n",
              "      <th>Day</th>\n",
              "      <td>3859</td>\n",
              "      <td>15.76444674786214</td>\n",
              "      <td>9.157213402989003</td>\n",
              "      <td>1</td>\n",
              "      <td>31</td>\n",
              "    </tr>\n",
              "    <tr>\n",
              "      <th>WeekDay</th>\n",
              "      <td>3859</td>\n",
              "      <td>4.075926405804613</td>\n",
              "      <td>1.973039745677894</td>\n",
              "      <td>1</td>\n",
              "      <td>7</td>\n",
              "    </tr>\n",
              "    <tr>\n",
              "      <th>Hour</th>\n",
              "      <td>3859</td>\n",
              "      <td>12.037833635656906</td>\n",
              "      <td>6.869487540512549</td>\n",
              "      <td>0</td>\n",
              "      <td>23</td>\n",
              "    </tr>\n",
              "    <tr>\n",
              "      <th>O3</th>\n",
              "      <td>3859</td>\n",
              "      <td>22.658719875615443</td>\n",
              "      <td>16.510561318859263</td>\n",
              "      <td>2</td>\n",
              "      <td>92</td>\n",
              "    </tr>\n",
              "    <tr>\n",
              "      <th>PM2_5</th>\n",
              "      <td>3859</td>\n",
              "      <td>27.675822752008294</td>\n",
              "      <td>16.84943427913517</td>\n",
              "      <td>5</td>\n",
              "      <td>123</td>\n",
              "    </tr>\n",
              "    <tr>\n",
              "      <th>PRS</th>\n",
              "      <td>3859</td>\n",
              "      <td>719.6299559471364</td>\n",
              "      <td>3.6959485297561017</td>\n",
              "      <td>708.4</td>\n",
              "      <td>734.3</td>\n",
              "    </tr>\n",
              "    <tr>\n",
              "      <th>RAINF</th>\n",
              "      <td>3859</td>\n",
              "      <td>0.0026509458406322856</td>\n",
              "      <td>0.04244711534165339</td>\n",
              "      <td>0.0</td>\n",
              "      <td>2.4</td>\n",
              "    </tr>\n",
              "    <tr>\n",
              "      <th>RH</th>\n",
              "      <td>3859</td>\n",
              "      <td>71.04845814977973</td>\n",
              "      <td>18.33461472259284</td>\n",
              "      <td>12</td>\n",
              "      <td>96</td>\n",
              "    </tr>\n",
              "    <tr>\n",
              "      <th>SR</th>\n",
              "      <td>3859</td>\n",
              "      <td>0.18258227523114792</td>\n",
              "      <td>0.2616020283672904</td>\n",
              "      <td>0.0</td>\n",
              "      <td>0.934</td>\n",
              "    </tr>\n",
              "    <tr>\n",
              "      <th>TOUT</th>\n",
              "      <td>3859</td>\n",
              "      <td>22.018968644726602</td>\n",
              "      <td>7.545535084646787</td>\n",
              "      <td>3.03</td>\n",
              "      <td>38.52</td>\n",
              "    </tr>\n",
              "    <tr>\n",
              "      <th>WSR</th>\n",
              "      <td>3859</td>\n",
              "      <td>7.331458927183212</td>\n",
              "      <td>3.8282164629573434</td>\n",
              "      <td>0.9</td>\n",
              "      <td>21.2</td>\n",
              "    </tr>\n",
              "    <tr>\n",
              "      <th>WDV</th>\n",
              "      <td>3859</td>\n",
              "      <td>127.52215599896346</td>\n",
              "      <td>96.51530962028542</td>\n",
              "      <td>0</td>\n",
              "      <td>360</td>\n",
              "    </tr>\n",
              "  </tbody>\n",
              "</table>\n",
              "</div>\n",
              "    <div class=\"colab-df-buttons\">\n",
              "\n",
              "  <div class=\"colab-df-container\">\n",
              "    <button class=\"colab-df-convert\" onclick=\"convertToInteractive('df-809c37bd-1072-49b8-ad07-adcc99a25b86')\"\n",
              "            title=\"Convert this dataframe to an interactive table.\"\n",
              "            style=\"display:none;\">\n",
              "\n",
              "  <svg xmlns=\"http://www.w3.org/2000/svg\" height=\"24px\" viewBox=\"0 -960 960 960\">\n",
              "    <path d=\"M120-120v-720h720v720H120Zm60-500h600v-160H180v160Zm220 220h160v-160H400v160Zm0 220h160v-160H400v160ZM180-400h160v-160H180v160Zm440 0h160v-160H620v160ZM180-180h160v-160H180v160Zm440 0h160v-160H620v160Z\"/>\n",
              "  </svg>\n",
              "    </button>\n",
              "\n",
              "  <style>\n",
              "    .colab-df-container {\n",
              "      display:flex;\n",
              "      gap: 12px;\n",
              "    }\n",
              "\n",
              "    .colab-df-convert {\n",
              "      background-color: #E8F0FE;\n",
              "      border: none;\n",
              "      border-radius: 50%;\n",
              "      cursor: pointer;\n",
              "      display: none;\n",
              "      fill: #1967D2;\n",
              "      height: 32px;\n",
              "      padding: 0 0 0 0;\n",
              "      width: 32px;\n",
              "    }\n",
              "\n",
              "    .colab-df-convert:hover {\n",
              "      background-color: #E2EBFA;\n",
              "      box-shadow: 0px 1px 2px rgba(60, 64, 67, 0.3), 0px 1px 3px 1px rgba(60, 64, 67, 0.15);\n",
              "      fill: #174EA6;\n",
              "    }\n",
              "\n",
              "    .colab-df-buttons div {\n",
              "      margin-bottom: 4px;\n",
              "    }\n",
              "\n",
              "    [theme=dark] .colab-df-convert {\n",
              "      background-color: #3B4455;\n",
              "      fill: #D2E3FC;\n",
              "    }\n",
              "\n",
              "    [theme=dark] .colab-df-convert:hover {\n",
              "      background-color: #434B5C;\n",
              "      box-shadow: 0px 1px 3px 1px rgba(0, 0, 0, 0.15);\n",
              "      filter: drop-shadow(0px 1px 2px rgba(0, 0, 0, 0.3));\n",
              "      fill: #FFFFFF;\n",
              "    }\n",
              "  </style>\n",
              "\n",
              "    <script>\n",
              "      const buttonEl =\n",
              "        document.querySelector('#df-809c37bd-1072-49b8-ad07-adcc99a25b86 button.colab-df-convert');\n",
              "      buttonEl.style.display =\n",
              "        google.colab.kernel.accessAllowed ? 'block' : 'none';\n",
              "\n",
              "      async function convertToInteractive(key) {\n",
              "        const element = document.querySelector('#df-809c37bd-1072-49b8-ad07-adcc99a25b86');\n",
              "        const dataTable =\n",
              "          await google.colab.kernel.invokeFunction('convertToInteractive',\n",
              "                                                    [key], {});\n",
              "        if (!dataTable) return;\n",
              "\n",
              "        const docLinkHtml = 'Like what you see? Visit the ' +\n",
              "          '<a target=\"_blank\" href=https://colab.research.google.com/notebooks/data_table.ipynb>data table notebook</a>'\n",
              "          + ' to learn more about interactive tables.';\n",
              "        element.innerHTML = '';\n",
              "        dataTable['output_type'] = 'display_data';\n",
              "        await google.colab.output.renderOutput(dataTable, element);\n",
              "        const docLink = document.createElement('div');\n",
              "        docLink.innerHTML = docLinkHtml;\n",
              "        element.appendChild(docLink);\n",
              "      }\n",
              "    </script>\n",
              "  </div>\n",
              "\n",
              "\n",
              "<div id=\"df-988a3a78-f673-473e-8926-072d2f53b522\">\n",
              "  <button class=\"colab-df-quickchart\" onclick=\"quickchart('df-988a3a78-f673-473e-8926-072d2f53b522')\"\n",
              "            title=\"Suggest charts\"\n",
              "            style=\"display:none;\">\n",
              "\n",
              "<svg xmlns=\"http://www.w3.org/2000/svg\" height=\"24px\"viewBox=\"0 0 24 24\"\n",
              "     width=\"24px\">\n",
              "    <g>\n",
              "        <path d=\"M19 3H5c-1.1 0-2 .9-2 2v14c0 1.1.9 2 2 2h14c1.1 0 2-.9 2-2V5c0-1.1-.9-2-2-2zM9 17H7v-7h2v7zm4 0h-2V7h2v10zm4 0h-2v-4h2v4z\"/>\n",
              "    </g>\n",
              "</svg>\n",
              "  </button>\n",
              "\n",
              "<style>\n",
              "  .colab-df-quickchart {\n",
              "      --bg-color: #E8F0FE;\n",
              "      --fill-color: #1967D2;\n",
              "      --hover-bg-color: #E2EBFA;\n",
              "      --hover-fill-color: #174EA6;\n",
              "      --disabled-fill-color: #AAA;\n",
              "      --disabled-bg-color: #DDD;\n",
              "  }\n",
              "\n",
              "  [theme=dark] .colab-df-quickchart {\n",
              "      --bg-color: #3B4455;\n",
              "      --fill-color: #D2E3FC;\n",
              "      --hover-bg-color: #434B5C;\n",
              "      --hover-fill-color: #FFFFFF;\n",
              "      --disabled-bg-color: #3B4455;\n",
              "      --disabled-fill-color: #666;\n",
              "  }\n",
              "\n",
              "  .colab-df-quickchart {\n",
              "    background-color: var(--bg-color);\n",
              "    border: none;\n",
              "    border-radius: 50%;\n",
              "    cursor: pointer;\n",
              "    display: none;\n",
              "    fill: var(--fill-color);\n",
              "    height: 32px;\n",
              "    padding: 0;\n",
              "    width: 32px;\n",
              "  }\n",
              "\n",
              "  .colab-df-quickchart:hover {\n",
              "    background-color: var(--hover-bg-color);\n",
              "    box-shadow: 0 1px 2px rgba(60, 64, 67, 0.3), 0 1px 3px 1px rgba(60, 64, 67, 0.15);\n",
              "    fill: var(--button-hover-fill-color);\n",
              "  }\n",
              "\n",
              "  .colab-df-quickchart-complete:disabled,\n",
              "  .colab-df-quickchart-complete:disabled:hover {\n",
              "    background-color: var(--disabled-bg-color);\n",
              "    fill: var(--disabled-fill-color);\n",
              "    box-shadow: none;\n",
              "  }\n",
              "\n",
              "  .colab-df-spinner {\n",
              "    border: 2px solid var(--fill-color);\n",
              "    border-color: transparent;\n",
              "    border-bottom-color: var(--fill-color);\n",
              "    animation:\n",
              "      spin 1s steps(1) infinite;\n",
              "  }\n",
              "\n",
              "  @keyframes spin {\n",
              "    0% {\n",
              "      border-color: transparent;\n",
              "      border-bottom-color: var(--fill-color);\n",
              "      border-left-color: var(--fill-color);\n",
              "    }\n",
              "    20% {\n",
              "      border-color: transparent;\n",
              "      border-left-color: var(--fill-color);\n",
              "      border-top-color: var(--fill-color);\n",
              "    }\n",
              "    30% {\n",
              "      border-color: transparent;\n",
              "      border-left-color: var(--fill-color);\n",
              "      border-top-color: var(--fill-color);\n",
              "      border-right-color: var(--fill-color);\n",
              "    }\n",
              "    40% {\n",
              "      border-color: transparent;\n",
              "      border-right-color: var(--fill-color);\n",
              "      border-top-color: var(--fill-color);\n",
              "    }\n",
              "    60% {\n",
              "      border-color: transparent;\n",
              "      border-right-color: var(--fill-color);\n",
              "    }\n",
              "    80% {\n",
              "      border-color: transparent;\n",
              "      border-right-color: var(--fill-color);\n",
              "      border-bottom-color: var(--fill-color);\n",
              "    }\n",
              "    90% {\n",
              "      border-color: transparent;\n",
              "      border-bottom-color: var(--fill-color);\n",
              "    }\n",
              "  }\n",
              "</style>\n",
              "\n",
              "  <script>\n",
              "    async function quickchart(key) {\n",
              "      const quickchartButtonEl =\n",
              "        document.querySelector('#' + key + ' button');\n",
              "      quickchartButtonEl.disabled = true;  // To prevent multiple clicks.\n",
              "      quickchartButtonEl.classList.add('colab-df-spinner');\n",
              "      try {\n",
              "        const charts = await google.colab.kernel.invokeFunction(\n",
              "            'suggestCharts', [key], {});\n",
              "      } catch (error) {\n",
              "        console.error('Error during call to suggestCharts:', error);\n",
              "      }\n",
              "      quickchartButtonEl.classList.remove('colab-df-spinner');\n",
              "      quickchartButtonEl.classList.add('colab-df-quickchart-complete');\n",
              "    }\n",
              "    (() => {\n",
              "      let quickchartButtonEl =\n",
              "        document.querySelector('#df-988a3a78-f673-473e-8926-072d2f53b522 button');\n",
              "      quickchartButtonEl.style.display =\n",
              "        google.colab.kernel.accessAllowed ? 'block' : 'none';\n",
              "    })();\n",
              "  </script>\n",
              "</div>\n",
              "\n",
              "    </div>\n",
              "  </div>\n"
            ],
            "application/vnd.google.colaboratory.intrinsic+json": {
              "type": "dataframe",
              "summary": "{\n  \"name\": \"df_pollution_clean\",\n  \"rows\": 14,\n  \"fields\": [\n    {\n      \"column\": 0,\n      \"properties\": {\n        \"dtype\": \"category\",\n        \"num_unique_values\": 2,\n        \"samples\": [\n          \"3859\",\n          \"count\"\n        ],\n        \"semantic_type\": \"\",\n        \"description\": \"\"\n      }\n    },\n    {\n      \"column\": 1,\n      \"properties\": {\n        \"dtype\": \"string\",\n        \"num_unique_values\": 14,\n        \"samples\": [\n          \"71.04845814977973\",\n          \"22.018968644726602\"\n        ],\n        \"semantic_type\": \"\",\n        \"description\": \"\"\n      }\n    },\n    {\n      \"column\": 2,\n      \"properties\": {\n        \"dtype\": \"string\",\n        \"num_unique_values\": 14,\n        \"samples\": [\n          \"18.33461472259284\",\n          \"7.545535084646787\"\n        ],\n        \"semantic_type\": \"\",\n        \"description\": \"\"\n      }\n    },\n    {\n      \"column\": 3,\n      \"properties\": {\n        \"dtype\": \"string\",\n        \"num_unique_values\": 10,\n        \"samples\": [\n          \"3.03\",\n          \"1\"\n        ],\n        \"semantic_type\": \"\",\n        \"description\": \"\"\n      }\n    },\n    {\n      \"column\": 4,\n      \"properties\": {\n        \"dtype\": \"string\",\n        \"num_unique_values\": 14,\n        \"samples\": [\n          \"96\",\n          \"38.52\"\n        ],\n        \"semantic_type\": \"\",\n        \"description\": \"\"\n      }\n    }\n  ]\n}"
            }
          },
          "metadata": {},
          "execution_count": 35
        }
      ]
    },
    {
      "cell_type": "markdown",
      "source": [
        "## 2.- Análisis de correlación, para determinar qué variables ambientales o de tiempo afectan la concentración de contaminantes O3 y PM2.5"
      ],
      "metadata": {
        "id": "VOEBcFFz02e0"
      }
    },
    {
      "cell_type": "markdown",
      "source": [
        "Correlaciones"
      ],
      "metadata": {
        "id": "OiEpkAAg1kHz"
      }
    },
    {
      "cell_type": "code",
      "source": [
        "from pyspark.ml.stat import Correlation\n",
        "from pyspark.ml.feature import VectorAssembler"
      ],
      "metadata": {
        "id": "8thIBeFR1iDC"
      },
      "execution_count": 36,
      "outputs": []
    },
    {
      "cell_type": "code",
      "source": [
        "df_pollution_clean.printSchema()"
      ],
      "metadata": {
        "colab": {
          "base_uri": "https://localhost:8080/"
        },
        "id": "HDTgWqRM1qti",
        "outputId": "f9580b54-11fc-42f0-fabf-fb6af1464614"
      },
      "execution_count": 37,
      "outputs": [
        {
          "output_type": "stream",
          "name": "stdout",
          "text": [
            "root\n",
            " |-- Month: integer (nullable = true)\n",
            " |-- Day: integer (nullable = true)\n",
            " |-- WeekDay: integer (nullable = true)\n",
            " |-- Hour: integer (nullable = true)\n",
            " |-- O3: integer (nullable = true)\n",
            " |-- PM2_5: integer (nullable = true)\n",
            " |-- PRS: double (nullable = true)\n",
            " |-- RAINF: double (nullable = true)\n",
            " |-- RH: integer (nullable = true)\n",
            " |-- SR: double (nullable = true)\n",
            " |-- TOUT: double (nullable = true)\n",
            " |-- WSR: double (nullable = true)\n",
            " |-- WDV: integer (nullable = true)\n",
            "\n"
          ]
        }
      ]
    },
    {
      "cell_type": "code",
      "source": [
        "vector_col = \"corr_features\"\n",
        "\n",
        "assembler = VectorAssembler(inputCols=df_pollution_clean.columns, outputCol=vector_col)\n",
        "df_vector = assembler.transform(df_pollution_clean)"
      ],
      "metadata": {
        "id": "B9w2Jqqi1uE8"
      },
      "execution_count": 38,
      "outputs": []
    },
    {
      "cell_type": "code",
      "source": [
        "df_vector.select(vector_col).show(10, truncate=False)"
      ],
      "metadata": {
        "colab": {
          "base_uri": "https://localhost:8080/"
        },
        "id": "89VelI5j11mO",
        "outputId": "abac9627-c67f-47f7-a022-8871946ecda9"
      },
      "execution_count": 39,
      "outputs": [
        {
          "output_type": "stream",
          "name": "stdout",
          "text": [
            "+------------------------------------------------------------------+\n",
            "|corr_features                                                     |\n",
            "+------------------------------------------------------------------+\n",
            "|[1.0,26.0,2.0,2.0,4.0,14.0,726.1,0.0,43.0,0.0,14.39,1.3,284.0]    |\n",
            "|[2.0,6.0,6.0,2.0,19.0,5.0,728.2,0.0,92.0,0.0,9.6,6.6,103.0]       |\n",
            "|[2.0,14.0,7.0,17.0,13.0,13.0,723.9,0.0,89.0,0.032,15.28,3.9,102.0]|\n",
            "|[2.0,18.0,4.0,13.0,37.0,9.0,725.9,0.0,56.0,0.67,15.63,11.3,114.0] |\n",
            "|[3.0,25.0,4.0,19.0,41.0,77.0,716.0,0.0,80.0,0.0,21.96,7.6,106.0]  |\n",
            "|[3.0,26.0,5.0,2.0,13.0,8.0,716.8,0.0,84.0,0.0,21.09,3.9,205.0]    |\n",
            "|[4.0,1.0,4.0,11.0,35.0,19.0,718.0,0.0,67.0,0.535,25.66,7.5,30.0]  |\n",
            "|[4.0,11.0,7.0,21.0,9.0,6.0,718.2,0.0,96.0,0.0,19.41,4.0,316.0]    |\n",
            "|[5.0,28.0,5.0,9.0,13.0,9.0,720.2,0.0,87.0,0.273,24.81,6.3,73.0]   |\n",
            "|[6.0,24.0,4.0,17.0,22.0,29.0,721.1,0.0,74.0,0.12,26.23,13.2,121.0]|\n",
            "+------------------------------------------------------------------+\n",
            "only showing top 10 rows\n",
            "\n"
          ]
        }
      ]
    },
    {
      "cell_type": "code",
      "source": [
        "# Se calcula únicamente la correlación de Pearson\n",
        "corr_pearson = Correlation.corr(df_vector, vector_col, method = 'pearson')\n",
        "print(\"Pearson Corr Matrix\\n\",corr_pearson.collect()[0][\"pearson({})\".format(vector_col)].values)"
      ],
      "metadata": {
        "colab": {
          "base_uri": "https://localhost:8080/"
        },
        "id": "lyfRwBvg2E-f",
        "outputId": "f3cb5fda-4c04-4aa3-b2d2-afbd3d8b4ddc"
      },
      "execution_count": 55,
      "outputs": [
        {
          "output_type": "stream",
          "name": "stdout",
          "text": [
            "Pearson Corr Matrix\n",
            " [ 1.         -0.06681874  0.00577055  0.0054055   0.21388996 -0.05753043\n",
            " -0.43358683 -0.0108237  -0.18114563  0.1609054   0.67349906  0.26464103\n",
            " -0.22102167 -0.06681874  1.         -0.00598214 -0.00155594  0.0894571\n",
            " -0.0136505  -0.03661393 -0.02347321 -0.2098234   0.06236327  0.11085136\n",
            "  0.04526884  0.0283507   0.00577055 -0.00598214  1.         -0.00860741\n",
            "  0.01599319  0.01675521  0.06762479  0.03130008  0.0775407  -0.0104502\n",
            " -0.06985465  0.0251707  -0.04951724  0.0054055  -0.00155594 -0.00860741\n",
            "  1.          0.2283809   0.09788411 -0.04785694  0.0207946  -0.36251786\n",
            "  0.04857046  0.21874229  0.42407231 -0.12821527  0.21388996  0.0894571\n",
            "  0.01599319  0.2283809   1.         -0.00881133 -0.21973222 -0.03014244\n",
            " -0.65558821  0.6919266   0.52715429  0.46625389 -0.19879824 -0.05753043\n",
            " -0.0136505   0.01675521  0.09788411 -0.00881133  1.         -0.17802928\n",
            "  0.03074583  0.03615375 -0.03730585  0.08370345 -0.07117816 -0.03237315\n",
            " -0.43358683 -0.03661393  0.06762479 -0.04785694 -0.21973222 -0.17802928\n",
            "  1.          0.00509631  0.12850916 -0.14052128 -0.66116281 -0.21603169\n",
            "  0.13427311 -0.0108237  -0.02347321  0.03130008  0.0207946  -0.03014244\n",
            "  0.03074583  0.00509631  1.          0.06550696 -0.03597594 -0.02978912\n",
            " -0.01519482  0.00324308 -0.18114563 -0.2098234   0.0775407  -0.36251786\n",
            " -0.65558821  0.03615375  0.12850916  0.06550696  1.         -0.45995762\n",
            " -0.55091045 -0.41491721  0.06847708  0.1609054   0.06236327 -0.0104502\n",
            "  0.04857046  0.6919266  -0.03730585 -0.14052128 -0.03597594 -0.45995762\n",
            "  1.          0.45622603  0.20218088 -0.10112286  0.67349906  0.11085136\n",
            " -0.06985465  0.21874229  0.52715429  0.08370345 -0.66116281 -0.02978912\n",
            " -0.55091045  0.45622603  1.          0.46579615 -0.26496196  0.26464103\n",
            "  0.04526884  0.0251707   0.42407231  0.46625389 -0.07117816 -0.21603169\n",
            " -0.01519482 -0.41491721  0.20218088  0.46579615  1.         -0.14934754\n",
            " -0.22102167  0.0283507  -0.04951724 -0.12821527 -0.19879824 -0.03237315\n",
            "  0.13427311  0.00324308  0.06847708 -0.10112286 -0.26496196 -0.14934754\n",
            "  1.        ]\n"
          ]
        }
      ]
    },
    {
      "cell_type": "code",
      "source": [
        "#Visualización de correlaciones con HeatMapz\n",
        "\n",
        "!pip install heatmapz\n",
        "\n",
        "import seaborn as sns\n",
        "import pandas as pd\n",
        "import numpy as np\n",
        "from matplotlib import pyplot as plt\n",
        "from heatmap import corrplot"
      ],
      "metadata": {
        "colab": {
          "base_uri": "https://localhost:8080/"
        },
        "id": "0gxrXX2P2T_4",
        "outputId": "c777e9e3-fcba-42ea-fc80-a2fcbccd8346"
      },
      "execution_count": 60,
      "outputs": [
        {
          "output_type": "stream",
          "name": "stdout",
          "text": [
            "Requirement already satisfied: heatmapz in /usr/local/lib/python3.10/dist-packages (0.0.4)\n",
            "Requirement already satisfied: matplotlib>=3.0.3 in /usr/local/lib/python3.10/dist-packages (from heatmapz) (3.7.1)\n",
            "Requirement already satisfied: pandas in /usr/local/lib/python3.10/dist-packages (from heatmapz) (2.0.3)\n",
            "Requirement already satisfied: seaborn in /usr/local/lib/python3.10/dist-packages (from heatmapz) (0.13.1)\n",
            "Requirement already satisfied: contourpy>=1.0.1 in /usr/local/lib/python3.10/dist-packages (from matplotlib>=3.0.3->heatmapz) (1.2.1)\n",
            "Requirement already satisfied: cycler>=0.10 in /usr/local/lib/python3.10/dist-packages (from matplotlib>=3.0.3->heatmapz) (0.12.1)\n",
            "Requirement already satisfied: fonttools>=4.22.0 in /usr/local/lib/python3.10/dist-packages (from matplotlib>=3.0.3->heatmapz) (4.53.1)\n",
            "Requirement already satisfied: kiwisolver>=1.0.1 in /usr/local/lib/python3.10/dist-packages (from matplotlib>=3.0.3->heatmapz) (1.4.5)\n",
            "Requirement already satisfied: numpy>=1.20 in /usr/local/lib/python3.10/dist-packages (from matplotlib>=3.0.3->heatmapz) (1.25.2)\n",
            "Requirement already satisfied: packaging>=20.0 in /usr/local/lib/python3.10/dist-packages (from matplotlib>=3.0.3->heatmapz) (24.1)\n",
            "Requirement already satisfied: pillow>=6.2.0 in /usr/local/lib/python3.10/dist-packages (from matplotlib>=3.0.3->heatmapz) (9.4.0)\n",
            "Requirement already satisfied: pyparsing>=2.3.1 in /usr/local/lib/python3.10/dist-packages (from matplotlib>=3.0.3->heatmapz) (3.1.2)\n",
            "Requirement already satisfied: python-dateutil>=2.7 in /usr/local/lib/python3.10/dist-packages (from matplotlib>=3.0.3->heatmapz) (2.8.2)\n",
            "Requirement already satisfied: pytz>=2020.1 in /usr/local/lib/python3.10/dist-packages (from pandas->heatmapz) (2023.4)\n",
            "Requirement already satisfied: tzdata>=2022.1 in /usr/local/lib/python3.10/dist-packages (from pandas->heatmapz) (2024.1)\n",
            "Requirement already satisfied: six>=1.5 in /usr/local/lib/python3.10/dist-packages (from python-dateutil>=2.7->matplotlib>=3.0.3->heatmapz) (1.16.0)\n"
          ]
        }
      ]
    },
    {
      "cell_type": "code",
      "source": [
        "vector_col = \"corr_features\"\n",
        "pearson_corr_arr = np.matrix(corr_pearson.collect()[0][\"pearson({})\".format(vector_col)].values).reshape(len(df_pollution_clean.columns), len(df_pollution_clean.columns))\n",
        "\n",
        "# Note que data debe estar en formato matriz de numpy\n",
        "df_clean_columns = df_pollution_clean.columns\n",
        "pearson_corr_df = pd.DataFrame(data=pearson_corr_arr, index=df_clean_columns, columns=df_clean_columns)\n",
        "\n",
        "plt.figure(figsize=(8, 8))\n",
        "# Aquí se puede pasar directamente un Spark Dataframe\n",
        "corrplot(pearson_corr_df ,size_scale=300)"
      ],
      "metadata": {
        "colab": {
          "base_uri": "https://localhost:8080/",
          "height": 719
        },
        "id": "EpDZzWQd3El3",
        "outputId": "cc0e6c1a-635a-4c0c-f22a-c1e986a3de1c"
      },
      "execution_count": 61,
      "outputs": [
        {
          "output_type": "display_data",
          "data": {
            "text/plain": [
              "<Figure size 800x800 with 2 Axes>"
            ],
            "image/png": "[encoded data removed]"
          },
          "metadata": {}
        }
      ]
    },
    {
      "cell_type": "markdown",
      "source": [
        "### **Se observa que si hay correlaciones negativas y esto indica que las variables se mueven en direcciones opuestas, es decir, se incrementa una, la otra decrementa.**"
      ],
      "metadata": {
        "id": "qNH53N2D7vay"
      }
    },
    {
      "cell_type": "markdown",
      "source": [
        "## 3.- Confirma estas relaciones usando gráficos de dispersión"
      ],
      "metadata": {
        "id": "bkSFwZTY8OBI"
      }
    },
    {
      "cell_type": "markdown",
      "source": [
        "Se realizan los diagramas de dispersión de las variables con correlación negativa"
      ],
      "metadata": {
        "id": "XYc3zJXB-9Bg"
      }
    },
    {
      "cell_type": "code",
      "source": [
        "#Realizamos diagrama de dispersión de las variables O3 y RH\n",
        "#Select data\n",
        "df_temp_O3 = df_pollution_clean.select(\"O3\")\n",
        "df_temp_RH = df_pollution_clean.select(\"RH\")\n",
        "print(df_temp_O3.count(), df_temp_RH.count())\n",
        "\n",
        "#Convert to array\n",
        "arr_O3 = df_temp_O3.rdd.map(lambda row : row.O3).collect()\n",
        "arr_RH = df_temp_RH.rdd.map(lambda row : row.RH).collect()\n",
        "\n",
        "#Plot\n",
        "plt.plot(arr_O3, arr_RH, 'b.')\n",
        "plt.xlabel(\"O3\")\n",
        "plt.ylabel(\"RH\")\n",
        "plt.show()"
      ],
      "metadata": {
        "colab": {
          "base_uri": "https://localhost:8080/",
          "height": 471
        },
        "id": "h8RyUOqv8Lzm",
        "outputId": "30a36e68-0db3-40de-df4a-c9b696f739f8"
      },
      "execution_count": 62,
      "outputs": [
        {
          "output_type": "stream",
          "name": "stdout",
          "text": [
            "3859 3859\n"
          ]
        },
        {
          "output_type": "display_data",
          "data": {
            "text/plain": [
              "<Figure size 640x480 with 1 Axes>"
            ],
            "image/png": "[encoded data removed]"
          },
          "metadata": {}
        }
      ]
    },
    {
      "cell_type": "code",
      "source": [
        "#Realizamos diagrama de dispersión de las variables O3 y WDV\n",
        "#Select data\n",
        "df_temp_O3 = df_pollution_clean.select(\"O3\")\n",
        "df_temp_WDV = df_pollution_clean.select(\"WDV\")\n",
        "print(df_temp_O3.count(), df_temp_WDV.count())\n",
        "\n",
        "#Convert to array\n",
        "arr_O3 = df_temp_O3.rdd.map(lambda row : row.O3).collect()\n",
        "arr_WDV = df_temp_WDV.rdd.map(lambda row : row.WDV).collect()\n",
        "\n",
        "#Plot\n",
        "plt.plot(arr_O3, arr_WDV, 'b.')\n",
        "plt.xlabel(\"O3\")\n",
        "plt.ylabel(\"WDV\")\n",
        "plt.show()"
      ],
      "metadata": {
        "colab": {
          "base_uri": "https://localhost:8080/",
          "height": 466
        },
        "id": "rsnLlW1j9bar",
        "outputId": "5008ef3d-b4bf-48a3-867a-c912613b4a4b"
      },
      "execution_count": 63,
      "outputs": [
        {
          "output_type": "stream",
          "name": "stdout",
          "text": [
            "3859 3859\n"
          ]
        },
        {
          "output_type": "display_data",
          "data": {
            "text/plain": [
              "<Figure size 640x480 with 1 Axes>"
            ],
            "image/png": "[encoded data removed]"
          },
          "metadata": {}
        }
      ]
    },
    {
      "cell_type": "code",
      "source": [
        "#Realizamos diagrama de dispersión de las variables O3 y PRS\n",
        "#Select data\n",
        "df_temp_O3 = df_pollution_clean.select(\"O3\")\n",
        "df_temp_PRS = df_pollution_clean.select(\"PRS\")\n",
        "print(df_temp_O3.count(), df_temp_PRS.count())\n",
        "\n",
        "#Convert to array\n",
        "arr_O3 = df_temp_O3.rdd.map(lambda row : row.O3).collect()\n",
        "arr_PRS = df_temp_PRS.rdd.map(lambda row : row.PRS).collect()\n",
        "\n",
        "#Plot\n",
        "plt.plot(arr_O3, arr_PRS, 'b.')\n",
        "plt.xlabel(\"O3\")\n",
        "plt.ylabel(\"PRS\")\n",
        "plt.show()"
      ],
      "metadata": {
        "colab": {
          "base_uri": "https://localhost:8080/",
          "height": 466
        },
        "id": "dYgbcFNy9fVK",
        "outputId": "755f2a73-899c-459c-ed07-74ceeed8e443"
      },
      "execution_count": 64,
      "outputs": [
        {
          "output_type": "stream",
          "name": "stdout",
          "text": [
            "3859 3859\n"
          ]
        },
        {
          "output_type": "display_data",
          "data": {
            "text/plain": [
              "<Figure size 640x480 with 1 Axes>"
            ],
            "image/png": "[encoded data removed]"
          },
          "metadata": {}
        }
      ]
    },
    {
      "cell_type": "code",
      "source": [
        "#Realizamos diagrama de dispersión de las variables PM2_5 y PRS\n",
        "#Select data\n",
        "df_temp_PM2_5 = df_pollution_clean.select(\"PM2_5\")\n",
        "df_temp_PRS = df_pollution_clean.select(\"PRS\")\n",
        "print(df_temp_PM2_5.count(), df_temp_PRS.count())\n",
        "\n",
        "#Convert to array\n",
        "arr_PM2_5 = df_temp_PM2_5.rdd.map(lambda row : row.PM2_5).collect()\n",
        "arr_PRS = df_temp_PRS.rdd.map(lambda row : row.PRS).collect()\n",
        "\n",
        "#Plot\n",
        "plt.plot(arr_PM2_5, arr_PRS, 'b.')\n",
        "plt.xlabel(\"PM2_5\")\n",
        "plt.ylabel(\"PRS\")\n",
        "plt.show()"
      ],
      "metadata": {
        "colab": {
          "base_uri": "https://localhost:8080/",
          "height": 466
        },
        "id": "Jtvq62n39jWV",
        "outputId": "863de182-7821-4dac-90b0-ec362a51ce76"
      },
      "execution_count": 66,
      "outputs": [
        {
          "output_type": "stream",
          "name": "stdout",
          "text": [
            "3859 3859\n"
          ]
        },
        {
          "output_type": "display_data",
          "data": {
            "text/plain": [
              "<Figure size 640x480 with 1 Axes>"
            ],
            "image/png": "[encoded data removed]"
          },
          "metadata": {}
        }
      ]
    },
    {
      "cell_type": "markdown",
      "source": [
        "## 4.- Crea modelos de regresión para predecir estos contaminantes (O3 y PM2_5)"
      ],
      "metadata": {
        "id": "iU8t_X3dAmBc"
      }
    },
    {
      "cell_type": "code",
      "source": [
        "df_pollution_clean.printSchema()"
      ],
      "metadata": {
        "colab": {
          "base_uri": "https://localhost:8080/"
        },
        "id": "sPNJYs0BDNe3",
        "outputId": "7415d556-10f5-409e-e093-840cd4ff6e77"
      },
      "execution_count": 70,
      "outputs": [
        {
          "output_type": "stream",
          "name": "stdout",
          "text": [
            "root\n",
            " |-- Month: integer (nullable = true)\n",
            " |-- Day: integer (nullable = true)\n",
            " |-- WeekDay: integer (nullable = true)\n",
            " |-- Hour: integer (nullable = true)\n",
            " |-- O3: integer (nullable = true)\n",
            " |-- PM2_5: integer (nullable = true)\n",
            " |-- PRS: double (nullable = true)\n",
            " |-- RAINF: double (nullable = true)\n",
            " |-- RH: integer (nullable = true)\n",
            " |-- SR: double (nullable = true)\n",
            " |-- TOUT: double (nullable = true)\n",
            " |-- WSR: double (nullable = true)\n",
            " |-- WDV: integer (nullable = true)\n",
            "\n"
          ]
        }
      ]
    },
    {
      "cell_type": "markdown",
      "source": [
        "Predicción variable O3"
      ],
      "metadata": {
        "id": "X72khsmXDuaT"
      }
    },
    {
      "cell_type": "code",
      "source": [
        "from pyspark.ml.feature import VectorAssembler\n",
        "\n",
        "assembler_O3 = VectorAssembler(inputCols=['Month', 'Day', 'WeekDay', 'Hour', 'PM2_5', 'PRS', 'RAINF', 'RH', 'SR', 'TOUT', 'WSR', 'WDV'], outputCol = 'Attributes')\n",
        "output_O3 = assembler_O3.transform(df_pollution_clean)\n",
        "output_O3.show(5, truncate = False)"
      ],
      "metadata": {
        "colab": {
          "base_uri": "https://localhost:8080/"
        },
        "id": "MLNmbsulBWW0",
        "outputId": "7c795de2-2395-42f7-8a31-2a3326415fd3"
      },
      "execution_count": 85,
      "outputs": [
        {
          "output_type": "stream",
          "name": "stdout",
          "text": [
            "+-----+---+-------+----+---+-----+-----+-----+---+-----+-----+----+---+-------------------------------------------------------------+\n",
            "|Month|Day|WeekDay|Hour|O3 |PM2_5|PRS  |RAINF|RH |SR   |TOUT |WSR |WDV|Attributes                                                   |\n",
            "+-----+---+-------+----+---+-----+-----+-----+---+-----+-----+----+---+-------------------------------------------------------------+\n",
            "|1    |26 |2      |2   |4  |14   |726.1|0.0  |43 |0.0  |14.39|1.3 |284|[1.0,26.0,2.0,2.0,14.0,726.1,0.0,43.0,0.0,14.39,1.3,284.0]   |\n",
            "|2    |6  |6      |2   |19 |5    |728.2|0.0  |92 |0.0  |9.6  |6.6 |103|[2.0,6.0,6.0,2.0,5.0,728.2,0.0,92.0,0.0,9.6,6.6,103.0]       |\n",
            "|2    |14 |7      |17  |13 |13   |723.9|0.0  |89 |0.032|15.28|3.9 |102|[2.0,14.0,7.0,17.0,13.0,723.9,0.0,89.0,0.032,15.28,3.9,102.0]|\n",
            "|2    |18 |4      |13  |37 |9    |725.9|0.0  |56 |0.67 |15.63|11.3|114|[2.0,18.0,4.0,13.0,9.0,725.9,0.0,56.0,0.67,15.63,11.3,114.0] |\n",
            "|3    |25 |4      |19  |41 |77   |716.0|0.0  |80 |0.0  |21.96|7.6 |106|[3.0,25.0,4.0,19.0,77.0,716.0,0.0,80.0,0.0,21.96,7.6,106.0]  |\n",
            "+-----+---+-------+----+---+-----+-----+-----+---+-----+-----+----+---+-------------------------------------------------------------+\n",
            "only showing top 5 rows\n",
            "\n"
          ]
        }
      ]
    },
    {
      "cell_type": "code",
      "source": [
        "#Input vs Output\n",
        "finalized_data_O3 = output_O3.select(\"Attributes\",\"O3\")\n",
        "finalized_data_O3.show(10, truncate = False)"
      ],
      "metadata": {
        "colab": {
          "base_uri": "https://localhost:8080/"
        },
        "id": "Rop0UCjZBWHY",
        "outputId": "91dad6cf-8046-4091-fa39-d1cde2eca00f"
      },
      "execution_count": 87,
      "outputs": [
        {
          "output_type": "stream",
          "name": "stdout",
          "text": [
            "+-------------------------------------------------------------+---+\n",
            "|Attributes                                                   |O3 |\n",
            "+-------------------------------------------------------------+---+\n",
            "|[1.0,26.0,2.0,2.0,14.0,726.1,0.0,43.0,0.0,14.39,1.3,284.0]   |4  |\n",
            "|[2.0,6.0,6.0,2.0,5.0,728.2,0.0,92.0,0.0,9.6,6.6,103.0]       |19 |\n",
            "|[2.0,14.0,7.0,17.0,13.0,723.9,0.0,89.0,0.032,15.28,3.9,102.0]|13 |\n",
            "|[2.0,18.0,4.0,13.0,9.0,725.9,0.0,56.0,0.67,15.63,11.3,114.0] |37 |\n",
            "|[3.0,25.0,4.0,19.0,77.0,716.0,0.0,80.0,0.0,21.96,7.6,106.0]  |41 |\n",
            "|[3.0,26.0,5.0,2.0,8.0,716.8,0.0,84.0,0.0,21.09,3.9,205.0]    |13 |\n",
            "|[4.0,1.0,4.0,11.0,19.0,718.0,0.0,67.0,0.535,25.66,7.5,30.0]  |35 |\n",
            "|[4.0,11.0,7.0,21.0,6.0,718.2,0.0,96.0,0.0,19.41,4.0,316.0]   |9  |\n",
            "|[5.0,28.0,5.0,9.0,9.0,720.2,0.0,87.0,0.273,24.81,6.3,73.0]   |13 |\n",
            "|[6.0,24.0,4.0,17.0,29.0,721.1,0.0,74.0,0.12,26.23,13.2,121.0]|22 |\n",
            "+-------------------------------------------------------------+---+\n",
            "only showing top 10 rows\n",
            "\n"
          ]
        }
      ]
    },
    {
      "cell_type": "markdown",
      "source": [
        "División de los datos para train y test"
      ],
      "metadata": {
        "id": "mz8x444UA3Y4"
      }
    },
    {
      "cell_type": "code",
      "source": [
        "train_data_O3, test_data_O3 = finalized_data_O3.randomSplit([0.8,0.2])\n",
        "\n",
        "print(train_data_O3.count())\n",
        "print(test_data_O3.count())"
      ],
      "metadata": {
        "colab": {
          "base_uri": "https://localhost:8080/"
        },
        "id": "pZtwvJO0Allw",
        "outputId": "e889ac36-9c5a-4cd0-b26b-16a70ac330cd"
      },
      "execution_count": 89,
      "outputs": [
        {
          "output_type": "stream",
          "name": "stdout",
          "text": [
            "3088\n",
            "771\n"
          ]
        }
      ]
    },
    {
      "cell_type": "code",
      "source": [
        "from pyspark.ml.regression import RandomForestRegressor\n",
        "rfr_O3 = RandomForestRegressor(featuresCol = 'Attributes', labelCol = 'O3')"
      ],
      "metadata": {
        "id": "L4awcKvPBEgD"
      },
      "execution_count": 90,
      "outputs": []
    },
    {
      "cell_type": "code",
      "source": [
        "#Entrenamiento\n",
        "rfr_O3 = rfr_O3.fit(train_data_O3)\n",
        "\n",
        "#Para predecir en el set de test\n",
        "pred_rfr_O3 = rfr_O3.transform(test_data_O3)"
      ],
      "metadata": {
        "id": "bbEbOPLkFDVS"
      },
      "execution_count": 91,
      "outputs": []
    },
    {
      "cell_type": "code",
      "source": [
        "pred_rfr_O3.select('Attributes', 'O3', 'prediction').show(10)"
      ],
      "metadata": {
        "colab": {
          "base_uri": "https://localhost:8080/"
        },
        "id": "UKybuf1GFTOB",
        "outputId": "8f1b7aec-622b-4007-cb22-aeacae55f25b"
      },
      "execution_count": 92,
      "outputs": [
        {
          "output_type": "stream",
          "name": "stdout",
          "text": [
            "+--------------------+---+------------------+\n",
            "|          Attributes| O3|        prediction|\n",
            "+--------------------+---+------------------+\n",
            "|[2.0,14.0,7.0,17....| 13|10.699336643636888|\n",
            "|[2.0,18.0,4.0,13....| 37|  40.6823900308714|\n",
            "|[3.0,25.0,4.0,19....| 41|17.829990386166212|\n",
            "|[3.0,26.0,5.0,2.0...| 13| 9.132714414082455|\n",
            "|[4.0,1.0,4.0,11.0...| 35| 38.08461403503067|\n",
            "|[4.0,11.0,7.0,21....|  9| 10.72210243692069|\n",
            "|[7.0,3.0,6.0,15.0...| 34| 45.37471788936019|\n",
            "|[7.0,29.0,4.0,13....| 70|47.773404337504935|\n",
            "|[1.0,8.0,5.0,8.0,...| 17|17.243286931808285|\n",
            "|[1.0,20.0,3.0,20....|  5|22.245766520720657|\n",
            "+--------------------+---+------------------+\n",
            "only showing top 10 rows\n",
            "\n"
          ]
        }
      ]
    },
    {
      "cell_type": "markdown",
      "source": [
        "Predicción variable PM2_5"
      ],
      "metadata": {
        "id": "folcXRVNF1w7"
      }
    },
    {
      "cell_type": "code",
      "source": [
        "from pyspark.ml.feature import VectorAssembler\n",
        "\n",
        "assembler_PM = VectorAssembler(inputCols=['Month', 'Day', 'WeekDay', 'Hour', 'O3', 'PRS', 'RAINF', 'RH', 'SR', 'TOUT', 'WSR', 'WDV'], outputCol = 'Attributes')\n",
        "output_PM = assembler_PM.transform(df_pollution_clean)\n",
        "output_PM.show(5, truncate = False)"
      ],
      "metadata": {
        "colab": {
          "base_uri": "https://localhost:8080/"
        },
        "id": "cDPV7XvNF7gI",
        "outputId": "83fb3eb7-db75-4b0c-be64-c4aa43ee6f16"
      },
      "execution_count": 93,
      "outputs": [
        {
          "output_type": "stream",
          "name": "stdout",
          "text": [
            "+-----+---+-------+----+---+-----+-----+-----+---+-----+-----+----+---+-------------------------------------------------------------+\n",
            "|Month|Day|WeekDay|Hour|O3 |PM2_5|PRS  |RAINF|RH |SR   |TOUT |WSR |WDV|Attributes                                                   |\n",
            "+-----+---+-------+----+---+-----+-----+-----+---+-----+-----+----+---+-------------------------------------------------------------+\n",
            "|1    |26 |2      |2   |4  |14   |726.1|0.0  |43 |0.0  |14.39|1.3 |284|[1.0,26.0,2.0,2.0,4.0,726.1,0.0,43.0,0.0,14.39,1.3,284.0]    |\n",
            "|2    |6  |6      |2   |19 |5    |728.2|0.0  |92 |0.0  |9.6  |6.6 |103|[2.0,6.0,6.0,2.0,19.0,728.2,0.0,92.0,0.0,9.6,6.6,103.0]      |\n",
            "|2    |14 |7      |17  |13 |13   |723.9|0.0  |89 |0.032|15.28|3.9 |102|[2.0,14.0,7.0,17.0,13.0,723.9,0.0,89.0,0.032,15.28,3.9,102.0]|\n",
            "|2    |18 |4      |13  |37 |9    |725.9|0.0  |56 |0.67 |15.63|11.3|114|[2.0,18.0,4.0,13.0,37.0,725.9,0.0,56.0,0.67,15.63,11.3,114.0]|\n",
            "|3    |25 |4      |19  |41 |77   |716.0|0.0  |80 |0.0  |21.96|7.6 |106|[3.0,25.0,4.0,19.0,41.0,716.0,0.0,80.0,0.0,21.96,7.6,106.0]  |\n",
            "+-----+---+-------+----+---+-----+-----+-----+---+-----+-----+----+---+-------------------------------------------------------------+\n",
            "only showing top 5 rows\n",
            "\n"
          ]
        }
      ]
    },
    {
      "cell_type": "code",
      "source": [
        "#Input vs Output\n",
        "finalized_data_PM = output_PM.select(\"Attributes\",\"PM2_5\")\n",
        "finalized_data_PM.show(10, truncate = False)"
      ],
      "metadata": {
        "colab": {
          "base_uri": "https://localhost:8080/"
        },
        "id": "u3q-GOoqGOl8",
        "outputId": "34eedd20-bd92-43b0-8ba0-1fb75bae452a"
      },
      "execution_count": 94,
      "outputs": [
        {
          "output_type": "stream",
          "name": "stdout",
          "text": [
            "+-------------------------------------------------------------+-----+\n",
            "|Attributes                                                   |PM2_5|\n",
            "+-------------------------------------------------------------+-----+\n",
            "|[1.0,26.0,2.0,2.0,4.0,726.1,0.0,43.0,0.0,14.39,1.3,284.0]    |14   |\n",
            "|[2.0,6.0,6.0,2.0,19.0,728.2,0.0,92.0,0.0,9.6,6.6,103.0]      |5    |\n",
            "|[2.0,14.0,7.0,17.0,13.0,723.9,0.0,89.0,0.032,15.28,3.9,102.0]|13   |\n",
            "|[2.0,18.0,4.0,13.0,37.0,725.9,0.0,56.0,0.67,15.63,11.3,114.0]|9    |\n",
            "|[3.0,25.0,4.0,19.0,41.0,716.0,0.0,80.0,0.0,21.96,7.6,106.0]  |77   |\n",
            "|[3.0,26.0,5.0,2.0,13.0,716.8,0.0,84.0,0.0,21.09,3.9,205.0]   |8    |\n",
            "|[4.0,1.0,4.0,11.0,35.0,718.0,0.0,67.0,0.535,25.66,7.5,30.0]  |19   |\n",
            "|[4.0,11.0,7.0,21.0,9.0,718.2,0.0,96.0,0.0,19.41,4.0,316.0]   |6    |\n",
            "|[5.0,28.0,5.0,9.0,13.0,720.2,0.0,87.0,0.273,24.81,6.3,73.0]  |9    |\n",
            "|[6.0,24.0,4.0,17.0,22.0,721.1,0.0,74.0,0.12,26.23,13.2,121.0]|29   |\n",
            "+-------------------------------------------------------------+-----+\n",
            "only showing top 10 rows\n",
            "\n"
          ]
        }
      ]
    },
    {
      "cell_type": "code",
      "source": [
        "train_data_PM, test_data_PM = finalized_data_PM.randomSplit([0.8,0.2])\n",
        "\n",
        "print(train_data_PM.count())\n",
        "print(test_data_PM.count())"
      ],
      "metadata": {
        "colab": {
          "base_uri": "https://localhost:8080/"
        },
        "id": "6yU08yaCGYz6",
        "outputId": "36a73d60-e610-4599-91df-118e1f7ae5ea"
      },
      "execution_count": 95,
      "outputs": [
        {
          "output_type": "stream",
          "name": "stdout",
          "text": [
            "3095\n",
            "764\n"
          ]
        }
      ]
    },
    {
      "cell_type": "code",
      "source": [
        "from pyspark.ml.regression import RandomForestRegressor\n",
        "rfr_PM = RandomForestRegressor(featuresCol = 'Attributes', labelCol = 'PM2_5')"
      ],
      "metadata": {
        "id": "0c0QkrIjGnFD"
      },
      "execution_count": 96,
      "outputs": []
    },
    {
      "cell_type": "code",
      "source": [
        "#Entrenamiento\n",
        "rfr_PM = rfr_PM.fit(train_data_PM)\n",
        "\n",
        "#Para predecir en el set de test\n",
        "pred_rfr_PM = rfr_PM.transform(test_data_PM)"
      ],
      "metadata": {
        "id": "hpUGiWlbGnTg"
      },
      "execution_count": 97,
      "outputs": []
    },
    {
      "cell_type": "code",
      "source": [
        "pred_rfr_PM.select('Attributes', 'PM2_5', 'prediction').show(10)"
      ],
      "metadata": {
        "colab": {
          "base_uri": "https://localhost:8080/"
        },
        "id": "YRQTW9rvGro4",
        "outputId": "f69fabc2-e83a-4991-cbba-99d483a34af0"
      },
      "execution_count": 98,
      "outputs": [
        {
          "output_type": "stream",
          "name": "stdout",
          "text": [
            "+--------------------+-----+------------------+\n",
            "|          Attributes|PM2_5|        prediction|\n",
            "+--------------------+-----+------------------+\n",
            "|[2.0,14.0,7.0,17....|   13|33.115985967775025|\n",
            "|[10.0,14.0,4.0,1....|   24| 29.15119138451721|\n",
            "|[3.0,8.0,1.0,19.0...|   37|30.065119605592493|\n",
            "|[3.0,23.0,2.0,4.0...|   26| 32.18058630870241|\n",
            "|[7.0,8.0,4.0,12.0...|   38|27.477441683715625|\n",
            "|[1.0,9.0,6.0,3.0,...|   25| 20.22981394799398|\n",
            "|[3.0,2.0,2.0,0.0,...|   35|23.738643075838727|\n",
            "|[8.0,21.0,6.0,20....|   36|30.849120462253445|\n",
            "|[1.0,15.0,5.0,21....|   31| 33.67756255209054|\n",
            "|[2.0,8.0,1.0,18.0...|   54|31.986322117583363|\n",
            "+--------------------+-----+------------------+\n",
            "only showing top 10 rows\n",
            "\n"
          ]
        }
      ]
    },
    {
      "cell_type": "markdown",
      "source": [
        "## 5.- Contesta las siguientes preguntas:"
      ],
      "metadata": {
        "id": "SMBoFN2RHMBf"
      }
    },
    {
      "cell_type": "markdown",
      "source": [
        "a. ¿Podemos decir que la contaminación por O3 o PM2.5 está ligada al tráfico\n",
        "vehicular?, ¿Tendría efectos sobre la contaminación implantar un esquema de verificación vehicular?\n",
        "\n",
        "**Es posible concluir que los índices de contaminación están ligados al tráfico ya que las variables de los contaminantes tienen correlación positiva sobre las variables de estudio, además de que los valores más altos aparecen en horarios de las 12 a 18 hrs.**\n",
        "\n",
        "b. Dado un reporte del pronóstico del clima dado en la mañana, ¿podemos predecir que habrá una contingencia ambiental debido a que los contaminantes en el aire rebasarán los límites permitidos por la norma?\n",
        "\n",
        "**Si, con los modelos desarrollados es posible que a partir del pronóstico podamos tener valores aproximados del nivel de los contaminantes principales.**\n",
        "\n",
        "c. En tus propias palabras, ¿qué condiciones climáticas se deben cumplir para tener altos niveles de contaminación de O3?, ¿Y PM2.5?\n",
        "\n",
        "**Es posible concluir que con Presión(PRS) media, una temperatura (TOUT) alta y una velocidad del viento (WSR) baja o media los niveles de contaminación incrementen.**"
      ],
      "metadata": {
        "id": "FxFHb4MKHSkz"
      }
    }
  ]
}