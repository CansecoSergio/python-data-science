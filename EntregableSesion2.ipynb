{
  "nbformat": 4,
  "nbformat_minor": 0,
  "metadata": {
    "colab": {
      "provenance": [],
      "authorship_tag": "ABX9TyOmttRrUHBYkM9t315mwAir",
      "include_colab_link": true
    },
    "kernelspec": {
      "name": "python3",
      "display_name": "Python 3"
    },
    "language_info": {
      "name": "python"
    }
  },
  "cells": [
    {
      "cell_type": "markdown",
      "metadata": {
        "id": "view-in-github",
        "colab_type": "text"
      },
      "source": [
        "<a href=\"https://colab.research.google.com/github/CansecoSergio/python-data-science/blob/main/EntregableSesion2.ipynb\" target=\"_parent\"><img src=\"https://colab.research.google.com/assets/colab-badge.svg\" alt=\"Open In Colab\"/></a>"
      ]
    },
    {
      "cell_type": "code",
      "execution_count": 5,
      "metadata": {
        "colab": {
          "base_uri": "https://localhost:8080/"
        },
        "id": "TYz8Veh1tnsT",
        "outputId": "b7065160-6582-4752-9267-9d4a289c8509"
      },
      "outputs": [
        {
          "output_type": "stream",
          "name": "stdout",
          "text": [
            "El \u001b[1;32;40m promedio de edad \u001b[0m en la muestra es de \u001b[1;33;40m 39.62 años \u001b[0m.\n",
            "\u001b[1;32;40m La cantidad de mujeres es mayor \u001b[0m a la de hombres en la muestra. (\u001b[1;33;40m 4114 mujeres \u001b[0m)\n"
          ]
        }
      ],
      "source": [
        "file_handler = open('/content/Employees.csv')\n",
        "next(file_handler) #Se ignoran los encabezados del archivo\n",
        "\n",
        "edades = []\n",
        "total_hombres, total_mujeres = 0, 0\n",
        "\n",
        "for index, linea in enumerate(file_handler):\n",
        "    split_row = linea.split(',')\n",
        "\n",
        "    #Posicion 1 corresponde a genero\n",
        "    if(split_row[1].upper() == 'M' or split_row[1].upper() == 'F'):\n",
        "        if(split_row[1] == 'M'):\n",
        "            total_hombres += 1\n",
        "        else:\n",
        "            total_mujeres += 1\n",
        "    else:\n",
        "        raise Exception(\"El genero de la siguiente fila no es válido: \", index)\n",
        "\n",
        "    #Posicion 2 corresponde a edad\n",
        "    if(split_row[2] != ''):\n",
        "        if(int(split_row[2]) >= 1):\n",
        "            edades.append(int(split_row[2]))\n",
        "        else:\n",
        "            raise Exception(\"La edad de la siguiente fila no es válida: \", index)\n",
        "\n",
        "prom_edad = sum(edades) / len(edades)\n",
        "print(f\"El \\033[1;32;40m promedio de edad \\033[0m en la muestra es de \\033[1;33;40m {round(prom_edad, 2)} años \\033[0m.\")\n",
        "\n",
        "if(total_hombres == total_mujeres):\n",
        "    print(f\" \\033[1;32;40m La cantidad de hombres y mujeres en la muestra es la misma \\033[0m. (\\033[1;33;40m {total_hombres} personas cada género \\033[0m)\")\n",
        "elif(total_mujeres > total_hombres):\n",
        "    print(f\"\\033[1;32;40m La cantidad de mujeres es mayor \\033[0m a la de hombres en la muestra. (\\033[1;33;40m {total_mujeres} mujeres \\033[0m)\")\n",
        "else:\n",
        "    print(f\"\\033[1;32;40m La cantidad de hombres es mayor \\033[0m a la de mujeres en la muestra. (\\033[1;33;40m {total_hombres} hombres \\033[0m)\")\n",
        "\n",
        "file_handler.close()"
      ]
    }
  ]
}